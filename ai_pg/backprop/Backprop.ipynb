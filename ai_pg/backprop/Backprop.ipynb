{
 "cells": [
  {
   "cell_type": "code",
   "execution_count": 321,
   "metadata": {},
   "outputs": [],
   "source": [
    "import numpy as np"
   ]
  },
  {
   "attachments": {},
   "cell_type": "markdown",
   "metadata": {},
   "source": [
    "## Conjuntos de treinamento"
   ]
  },
  {
   "cell_type": "code",
   "execution_count": 322,
   "metadata": {},
   "outputs": [],
   "source": [
    "inputs = np.array([[0, 0], [0, 1], [1, 0], [1, 1]])"
   ]
  },
  {
   "attachments": {},
   "cell_type": "markdown",
   "metadata": {},
   "source": [
    "### AND\n",
    "\n",
    "Resultados respectivos a cada entrada armazenada na lista de combinações após a aplicação da operação lógica `AND`. \n",
    "\n",
    "| x | y | z |\n",
    "|---|---|---|\n",
    "| 0 | 0 | 0 |\n",
    "| 0 | 1 | 0 |\n",
    "| 1 | 0 | 0 |\n",
    "| 1 | 1 | 1 |"
   ]
  },
  {
   "cell_type": "code",
   "execution_count": 323,
   "metadata": {},
   "outputs": [],
   "source": [
    "and_targets = np.array([[0], [0], [0], [1]])"
   ]
  },
  {
   "attachments": {},
   "cell_type": "markdown",
   "metadata": {},
   "source": [
    "### OR\n",
    "\n",
    "Resultados respectivos a cada entrada armazenada na lista de combinações após a aplicação da operação lógica `OR`. \n",
    "\n",
    "| x | y | z |\n",
    "|---|---|---|\n",
    "| 0 | 0 | 0 |\n",
    "| 0 | 1 | 1 |\n",
    "| 1 | 0 | 1 |\n",
    "| 1 | 1 | 1 |"
   ]
  },
  {
   "cell_type": "code",
   "execution_count": 324,
   "metadata": {},
   "outputs": [],
   "source": [
    "or_targets = np.array([[0], [1], [1], [1]])"
   ]
  },
  {
   "attachments": {},
   "cell_type": "markdown",
   "metadata": {},
   "source": [
    "### XOR\n",
    "\n",
    "Resultados respectivos a cada entrada armazenada na lista de combinações após a aplicação da operação lógica `XOR`. \n",
    "\n",
    "| x | y | z |\n",
    "|---|---|---|\n",
    "| 0 | 0 | 0 |\n",
    "| 0 | 1 | 1 |\n",
    "| 1 | 0 | 1 |\n",
    "| 1 | 1 | 0 |"
   ]
  },
  {
   "cell_type": "code",
   "execution_count": 325,
   "metadata": {},
   "outputs": [],
   "source": [
    "xor_targets = np.array([[0], [1], [1], [0]])"
   ]
  },
  {
   "attachments": {
    "image.png": {
     "image/png": "[encoded data removed]"
    }
   },
   "cell_type": "markdown",
   "metadata": {},
   "source": [
    "## Rede Neural\n",
    "\n",
    "A implementação da [Rede Neural](https://en.wikipedia.org/wiki/Artificial_neural_network) especificada abaixo tem como base o modelo de perceptron multicamadas e enfoque na classificação por retropropagação com a opção de utilização de duas funções para o cálculo da saída de determinado neurônio, sendo elas a  **sigmoide** e a **hiperbólica**.\n",
    "\n",
    "Tanto o procedimento de inicialização quanto o de execução utilizados seguem o processo especificado em sala de aula:\n",
    "\n",
    "1. Inicialmente os pesos sinápticos de entrada e saída das camadas de neurônios ocultos são determinados aleatoriamente.\n",
    "\n",
    "2. O valor da ativação é calculado a partir do produto vetorial dos vetores de entradas e de pesos.\n",
    "\n",
    "3. O valor de saída é determinado a partir da função escolhida (a versão atual utiliza a função hiperbólica).\n",
    "\n",
    "4. O erro da camada de saída é calculado a partir da fórmula:\n",
    "\n",
    "    ![image.png](attachment:image.png)\n",
    "\n",
    "    Como especificado em\n",
    "    \n",
    "    ```python\n",
    "        out_err = target - final_out\n",
    "        out_delta = out_err * self.tanh_deriv(final_out)\n",
    "    ```\n",
    "\n",
    "    E o erro das camadas ocultas é calculado por:\n",
    "\n",
    "    ```python\n",
    "        h_err = np.dot(out_delta, self.out_w.T)\n",
    "        h_delta = h_err * self.tanh_deriv(h_out)\n",
    "    ```\n",
    "\n",
    "5. O ajuste dos pesos é calculado com base nos erros identificados em determinada iteração:\n",
    "    \n",
    "    ```python\n",
    "        self.in_w += learning_rate * np.outer(inputs, h_delta)\n",
    "    ```"
   ]
  },
  {
   "cell_type": "code",
   "execution_count": 326,
   "metadata": {},
   "outputs": [],
   "source": [
    "class NeuralNetwork:\n",
    "    def __init__(self, isize=2, hsize=4, osize=1):\n",
    "        self.isize = isize\n",
    "        self.hsize = hsize\n",
    "        self.osize = osize\n",
    "\n",
    "        # Weight initialization\n",
    "        self.in_w = np.random.rand(self.isize, self.hsize)\n",
    "        self.out_w = np.random.rand(self.hsize, self.osize)\n",
    "\n",
    "    def sigmoid(self, x):\n",
    "        return 1 / (1 + np.exp(-x))\n",
    "\n",
    "    def sigmoid_deriv(self, x):\n",
    "        return x * (1 - x)\n",
    "    \n",
    "    def tanh(self, x):\n",
    "        return np.tanh(x)\n",
    "    \n",
    "    def tanh_deriv(self, x):\n",
    "        return 1.0 - np.tanh(x) ** 2\n",
    "\n",
    "    def propagate(self, inputs):\n",
    "        h_sum = np.dot(inputs, self.in_w)\n",
    "        h_out = self.tanh(h_sum)\n",
    "\n",
    "        # Output layer\n",
    "        out_sum = np.dot(h_out, self.out_w)\n",
    "        final_out = self.tanh(out_sum)\n",
    "\n",
    "        return h_out, final_out\n",
    "\n",
    "    def backpropagate(self, inputs, target, h_out, final_out, learning_rate):\n",
    "        out_err = target - final_out\n",
    "        out_delta = out_err * self.tanh_deriv(final_out)\n",
    "\n",
    "        self.out_w += learning_rate * np.outer(h_out, out_delta)\n",
    "\n",
    "        # Errors that happened in the hidden layers\n",
    "        h_err = np.dot(out_delta, self.out_w.T)\n",
    "        h_delta = h_err * self.tanh_deriv(h_out)\n",
    "\n",
    "        # Update hidden layers' weights\n",
    "        self.in_w += learning_rate * np.outer(inputs, h_delta)\n",
    "\n",
    "    def train(self, inputs, targets, iterations=5000, learning_rate=.08):\n",
    "        for iter in range(iterations):\n",
    "            # Total error\n",
    "            err = 0\n",
    "            for i in range(len(inputs)):\n",
    "                input_data = inputs[i]\n",
    "                target_data = targets[i]\n",
    "\n",
    "                # Propagate\n",
    "                h_out, final_out = self.propagate(input_data)\n",
    "\n",
    "                # Backpropagate\n",
    "                self.backpropagate(input_data, target_data, h_out, final_out, learning_rate)\n",
    "\n",
    "                err += np.sum((target_data - final_out) ** 2)\n",
    "\n",
    "            if iter % 1000 == 0:\n",
    "                print(f\"Iter: {iter}\\t Error: {err / len(inputs)}\")"
   ]
  },
  {
   "attachments": {},
   "cell_type": "markdown",
   "metadata": {},
   "source": [
    "## Treinamento"
   ]
  },
  {
   "cell_type": "code",
   "execution_count": 327,
   "metadata": {},
   "outputs": [],
   "source": [
    "input_size = 2\n",
    "hidden_size = 6\n",
    "output_size = 1\n",
    "learning_rate = 0.1\n",
    "iterations = 10000"
   ]
  },
  {
   "attachments": {},
   "cell_type": "markdown",
   "metadata": {},
   "source": [
    "### AND"
   ]
  },
  {
   "cell_type": "code",
   "execution_count": 328,
   "metadata": {},
   "outputs": [
    {
     "name": "stdout",
     "output_type": "stream",
     "text": [
      "Iter: 0\t Error: 0.4481788024485403\n",
      "Iter: 1000\t Error: 5.877233860710746e-05\n"
     ]
    },
    {
     "name": "stdout",
     "output_type": "stream",
     "text": [
      "Iter: 2000\t Error: 9.467566301039427e-06\n",
      "Iter: 3000\t Error: 3.4829755472410718e-06\n",
      "Iter: 4000\t Error: 1.7488193432981806e-06\n",
      "Iter: 5000\t Error: 1.0344436248333655e-06\n",
      "Iter: 6000\t Error: 6.770341270346617e-07\n",
      "Iter: 7000\t Error: 4.746074727321206e-07\n",
      "Iter: 8000\t Error: 3.4963440211109543e-07\n",
      "Iter: 9000\t Error: 2.6742193085221696e-07\n"
     ]
    }
   ],
   "source": [
    "neural_net_and = NeuralNetwork(input_size, hidden_size, output_size)\n",
    "neural_net_and.train(inputs, and_targets, iterations, learning_rate)"
   ]
  },
  {
   "attachments": {},
   "cell_type": "markdown",
   "metadata": {},
   "source": [
    "### OR"
   ]
  },
  {
   "cell_type": "code",
   "execution_count": 329,
   "metadata": {},
   "outputs": [
    {
     "name": "stdout",
     "output_type": "stream",
     "text": [
      "Iter: 0\t Error: 0.039393005944754304\n",
      "Iter: 1000\t Error: 1.7406559048616257e-06\n",
      "Iter: 2000\t Error: 3.82180438259308e-07\n",
      "Iter: 3000\t Error: 1.5794066955263732e-07\n",
      "Iter: 4000\t Error: 8.453467270443677e-08\n",
      "Iter: 5000\t Error: 5.2118157714579974e-08\n",
      "Iter: 6000\t Error: 3.513272611267727e-08\n",
      "Iter: 7000\t Error: 2.5184983669007372e-08\n",
      "Iter: 8000\t Error: 1.888378813208689e-08\n",
      "Iter: 9000\t Error: 1.4652881389241122e-08\n"
     ]
    }
   ],
   "source": [
    "neural_net_or = NeuralNetwork(input_size, hidden_size, output_size)\n",
    "neural_net_or.train(inputs, or_targets, iterations, learning_rate)"
   ]
  },
  {
   "attachments": {},
   "cell_type": "markdown",
   "metadata": {},
   "source": [
    "### XOR"
   ]
  },
  {
   "cell_type": "code",
   "execution_count": 330,
   "metadata": {},
   "outputs": [
    {
     "name": "stdout",
     "output_type": "stream",
     "text": [
      "Iter: 0\t Error: 0.25112666759264846\n",
      "Iter: 1000\t Error: 0.00014721813663351083\n",
      "Iter: 2000\t Error: 2.1805424971581473e-05\n",
      "Iter: 3000\t Error: 7.951387789501374e-06\n",
      "Iter: 4000\t Error: 3.998632787500239e-06\n",
      "Iter: 5000\t Error: 2.374332659404816e-06\n",
      "Iter: 6000\t Error: 1.560637597191495e-06\n",
      "Iter: 7000\t Error: 1.0986033734621846e-06\n",
      "Iter: 8000\t Error: 8.125040815690101e-07\n",
      "Iter: 9000\t Error: 6.237189798109872e-07\n"
     ]
    }
   ],
   "source": [
    "neural_net_xor = NeuralNetwork(input_size, hidden_size, output_size)\n",
    "neural_net_xor.train(inputs, xor_targets, iterations, learning_rate)"
   ]
  },
  {
   "attachments": {},
   "cell_type": "markdown",
   "metadata": {},
   "source": [
    "## Teste"
   ]
  },
  {
   "attachments": {},
   "cell_type": "markdown",
   "metadata": {},
   "source": [
    "### AND"
   ]
  },
  {
   "cell_type": "code",
   "execution_count": 331,
   "metadata": {},
   "outputs": [
    {
     "name": "stdout",
     "output_type": "stream",
     "text": [
      "Input: [0 0], Output: [0.]\n",
      "Input: [0 1], Output: [0.00026171]\n",
      "Input: [1 0], Output: [0.00026457]\n",
      "Input: [1 1], Output: [0.9991674]\n"
     ]
    }
   ],
   "source": [
    "for i in range(len(inputs)):\n",
    "    input = inputs[i]\n",
    "    _, out = neural_net_and.propagate(input)\n",
    "    print(f\"Input: {input}, Output: {out}\")"
   ]
  },
  {
   "attachments": {},
   "cell_type": "markdown",
   "metadata": {},
   "source": [
    "### OR"
   ]
  },
  {
   "cell_type": "code",
   "execution_count": 332,
   "metadata": {},
   "outputs": [
    {
     "name": "stdout",
     "output_type": "stream",
     "text": [
      "Input: [0 0], Output: [0.]\n",
      "Input: [0 1], Output: [0.9998265]\n",
      "Input: [1 0], Output: [0.99987118]\n",
      "Input: [1 1], Output: [0.99999459]\n"
     ]
    }
   ],
   "source": [
    "for i in range(len(inputs)):\n",
    "    input = inputs[i]\n",
    "    _, out = neural_net_or.propagate(input)\n",
    "    print(f\"Input: {input}, Output: {out}\")"
   ]
  },
  {
   "attachments": {},
   "cell_type": "markdown",
   "metadata": {},
   "source": [
    "### XOR"
   ]
  },
  {
   "cell_type": "code",
   "execution_count": 333,
   "metadata": {},
   "outputs": [
    {
     "name": "stdout",
     "output_type": "stream",
     "text": [
      "Input: [0 0], Output: [0.]\n",
      "Input: [0 1], Output: [0.99904763]\n",
      "Input: [1 0], Output: [0.99905864]\n",
      "Input: [1 1], Output: [1.34974669e-05]\n"
     ]
    }
   ],
   "source": [
    "for i in range(len(inputs)):\n",
    "    input = inputs[i]\n",
    "    _, out = neural_net_xor.propagate(input)\n",
    "    print(f\"Input: {input}, Output: {out}\")"
   ]
  },
  {
   "attachments": {},
   "cell_type": "markdown",
   "metadata": {},
   "source": [
    "## Questão 1 (Conclusões)\n",
    "\n",
    "Uma análise comparativa foi realizada considereando os atributos cuja especificação pode ser definida arbitrariamente, tais como a quantidade de camadas ocultas a serem utilizadas pelo modelo, a quantidade de saídas suportadas pelo algoritmo, a taxa de aprendizado, o número de iterações de propagação e a função de ativação.\n",
    "\n",
    "A alteração mais significativa quando comparados os resultados se mostrou no uso da função hiperbólica em contraste à função sigmoide, no sentido em que os resultados apresentados após o uso da primeira possuíram uma acurácia consideravelmente maior que a segunda (uma ordem de magnitude). Essa observação é de extrema importância uma vez que revela o quão sensível as classificações são frente à escolha e experimentação de funções de ativação. O segundo maior fator de mudança se deu na utilização de diferentes taxas de aprendizado e o fenômeno observado é descrito abaixo:\n",
    "\n",
    "- Para uma taxa de aprendizado suficientemente baixa (< 0.1), as classificações geraram resultados insatisfatórios principalmente para as operações `AND` e `XOR` sobre todas as entradas exceto as variáveis [0,0], que foram sempre classificadas corretamente independentemente de qualquer alteração.\n",
    "\n",
    "- Taxas situadas em um intervalo entre 0.3 e 0.4 apresentaram resultados satisfatórios para ambas as operações `AND` e `OR`. Todavia, com um aumento dos valores nesse intervalo, a classificação da operação `XOR` se tornou cada vez menos efetiva.\n",
    "\n",
    "- Taxas de aprendizado no intervalo 0.1 a 0.2 apresentaram os melhores resultados gerais de classificação. Porém, é importante apontar que os melhores valores de classificação das operações `AND` e `OR` não foram resultados do uso de uma taxa nesse intervalo, e sim do uso dos intervalos mencionados acima. A relevância desse intervalo é dada pelo seu maior balanceamento nos resultados de classificação, já que nele a operação `XOR` foi classificada com as maiores taxas de acerto. "
   ]
  }
 ],
 "metadata": {
  "kernelspec": {
   "display_name": "venv",
   "language": "python",
   "name": "python3"
  },
  "language_info": {
   "codemirror_mode": {
    "name": "ipython",
    "version": 3
   },
   "file_extension": ".py",
   "mimetype": "text/x-python",
   "name": "python",
   "nbconvert_exporter": "python",
   "pygments_lexer": "ipython3",
   "version": "3.11.5"
  },
  "orig_nbformat": 4
 },
 "nbformat": 4,
 "nbformat_minor": 2
}
